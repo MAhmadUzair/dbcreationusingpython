{
 "cells": [
  {
   "cell_type": "code",
   "execution_count": 20,
   "metadata": {},
   "outputs": [
    {
     "name": "stdout",
     "output_type": "stream",
     "text": [
      "Requirement already satisfied: pyodbc in c:\\users\\de\\appdata\\local\\programs\\python\\python311\\lib\\site-packages (4.0.39)\n",
      "Note: you may need to restart the kernel to use updated packages.\n"
     ]
    }
   ],
   "source": [
    "pip install pyodbc"
   ]
  },
  {
   "cell_type": "code",
   "execution_count": 21,
   "metadata": {},
   "outputs": [],
   "source": [
    "import pyodbc"
   ]
  },
  {
   "cell_type": "code",
   "execution_count": 23,
   "metadata": {},
   "outputs": [
    {
     "data": {
      "text/plain": [
       "['SQL Server',\n",
       " 'Microsoft Access Driver (*.mdb, *.accdb)',\n",
       " 'Microsoft Excel Driver (*.xls, *.xlsx, *.xlsm, *.xlsb)',\n",
       " 'Microsoft Access Text Driver (*.txt, *.csv)',\n",
       " 'SQL Server Native Client 11.0',\n",
       " 'SQLite3 ODBC Driver']"
      ]
     },
     "execution_count": 23,
     "metadata": {},
     "output_type": "execute_result"
    }
   ],
   "source": [
    "pyodbc.drivers()"
   ]
  },
  {
   "cell_type": "code",
   "execution_count": 33,
   "metadata": {},
   "outputs": [
    {
     "name": "stdout",
     "output_type": "stream",
     "text": [
      "<pyodbc.Connection object at 0x000001C861929BD0>\n"
     ]
    }
   ],
   "source": [
    "import pyodbc as odbc\n",
    "\n",
    "connection_string = (\n",
    "    \"DRIVER={SQL Server};\"\n",
    "    \"SERVER=UZAIR-PC\\\\SQLEXPRESS;\"\n",
    "    \"DATABASE=mydatabase;\"\n",
    "    \"Trust_Connection=yes;\"\n",
    ")\n",
    "\n",
    "\n",
    "conn = odbc.connect(connection_string)\n",
    "print(conn)"
   ]
  },
  {
   "cell_type": "code",
   "execution_count": 37,
   "metadata": {},
   "outputs": [],
   "source": [
    "# Define a SQL query to create a table\n",
    "create_table_query = \"\"\"\n",
    "CREATE TABLE DummyTable (\n",
    "    ID INT PRIMARY KEY,\n",
    "    Name VARCHAR(255),\n",
    "    Age INT\n",
    ");\n",
    "\"\"\"\n",
    "\n",
    "# Execute the query to create the table\n",
    "cursor = conn.cursor()\n",
    "cursor.execute(create_table_query)\n",
    "conn.commit()"
   ]
  },
  {
   "cell_type": "code",
   "execution_count": 38,
   "metadata": {},
   "outputs": [],
   "source": [
    "# Define SQL queries to insert values\n",
    "insert_query = \"INSERT INTO DummyTable (ID, Name, Age) VALUES (?, ?, ?)\"\n",
    "\n",
    "# Data to be inserted\n",
    "data_to_insert = [(1, 'John', 30), (2, 'Alice', 25), (3, 'Bob', 35)]\n",
    "\n",
    "# Execute the insert queries\n",
    "cursor = conn.cursor()\n",
    "cursor.executemany(insert_query, data_to_insert)\n",
    "conn.commit()"
   ]
  },
  {
   "cell_type": "code",
   "execution_count": 39,
   "metadata": {},
   "outputs": [
    {
     "name": "stdout",
     "output_type": "stream",
     "text": [
      "(1, 'John', 30)\n",
      "(2, 'Alice', 25)\n",
      "(3, 'Bob', 35)\n"
     ]
    }
   ],
   "source": [
    "# Select all rows from the table\n",
    "select_query = \"SELECT * FROM DummyTable\"\n",
    "cursor = conn.cursor()\n",
    "cursor.execute(select_query)\n",
    "rows = cursor.fetchall()\n",
    "\n",
    "for row in rows:\n",
    "    print(row)"
   ]
  },
  {
   "cell_type": "code",
   "execution_count": 40,
   "metadata": {},
   "outputs": [],
   "source": [
    "# Update a specific row\n",
    "update_query = \"UPDATE DummyTable SET Age = ? WHERE Name = ?\"\n",
    "cursor = conn.cursor()\n",
    "cursor.execute(update_query, (31, 'John'))\n",
    "conn.commit()\n"
   ]
  },
  {
   "cell_type": "code",
   "execution_count": 44,
   "metadata": {},
   "outputs": [
    {
     "name": "stdout",
     "output_type": "stream",
     "text": [
      "Updated Data:\n",
      "ID: 1\n",
      "Name: John\n",
      "Age: 31\n"
     ]
    }
   ],
   "source": [
    "# Select the updated data\n",
    "select_query = \"SELECT * FROM DummyTable WHERE Name = 'John'\"\n",
    "cursor = conn.cursor()\n",
    "cursor.execute(select_query)\n",
    "row = cursor.fetchone()\n",
    "\n",
    "if row:\n",
    "    print(\"Updated Data:\")\n",
    "    print(\"ID:\", row[0])\n",
    "    print(\"Name:\", row[1])\n",
    "    print(\"Age:\", row[2])\n",
    "else:\n",
    "    print(\"No data found for 'John'\")"
   ]
  },
  {
   "cell_type": "code",
   "execution_count": 41,
   "metadata": {},
   "outputs": [],
   "source": [
    "# Delete a specific row\n",
    "delete_query = \"DELETE FROM DummyTable WHERE Name = ?\"\n",
    "cursor = conn.cursor()\n",
    "cursor.execute(delete_query, ('Alice',))\n",
    "conn.commit()"
   ]
  },
  {
   "cell_type": "code",
   "execution_count": 45,
   "metadata": {},
   "outputs": [
    {
     "name": "stdout",
     "output_type": "stream",
     "text": [
      "Remaining Data:\n",
      "ID: 1\n",
      "Name: John\n",
      "Age: 31\n",
      "ID: 3\n",
      "Name: Bob\n",
      "Age: 35\n"
     ]
    }
   ],
   "source": [
    "# Select all remaining data in the table\n",
    "select_query = \"SELECT * FROM DummyTable\"\n",
    "cursor = conn.cursor()\n",
    "cursor.execute(select_query)\n",
    "rows = cursor.fetchall()\n",
    "\n",
    "if len(rows) > 0:\n",
    "    print(\"Remaining Data:\")\n",
    "    for row in rows:\n",
    "        print(\"ID:\", row[0])\n",
    "        print(\"Name:\", row[1])\n",
    "        print(\"Age:\", row[2])\n",
    "else:\n",
    "    print(\"The table is now empty.\")"
   ]
  }
 ],
 "metadata": {
  "kernelspec": {
   "display_name": "Python 3",
   "language": "python",
   "name": "python3"
  },
  "language_info": {
   "codemirror_mode": {
    "name": "ipython",
    "version": 3
   },
   "file_extension": ".py",
   "mimetype": "text/x-python",
   "name": "python",
   "nbconvert_exporter": "python",
   "pygments_lexer": "ipython3",
   "version": "3.11.5"
  },
  "orig_nbformat": 4
 },
 "nbformat": 4,
 "nbformat_minor": 2
}
